{
 "cells": [
  {
   "cell_type": "code",
   "execution_count": 1,
   "metadata": {
    "collapsed": true
   },
   "outputs": [],
   "source": [
    "import pandas as pd"
   ]
  },
  {
   "cell_type": "code",
   "execution_count": 7,
   "metadata": {
    "collapsed": false
   },
   "outputs": [
    {
     "name": "stdout",
     "output_type": "stream",
     "text": [
      "Assignment2.ipynb    readonly\r\n",
      "Assignment3.ipynb    test.png\r\n",
      "Assignment4.ipynb    UnderstandingDistributionsThroughSampling.ipynb\r\n",
      "data\t\t     Untitled.ipynb\r\n",
      "Dejunking.ipynb      Week2.ipynb\r\n",
      "environment.yml      Week3.ipynb\r\n",
      "iris.csv\t     Week4.ipynb\r\n",
      "Matplotlib_3D.ipynb\r\n"
     ]
    }
   ],
   "source": [
    "!ls"
   ]
  },
  {
   "cell_type": "code",
   "execution_count": 8,
   "metadata": {
    "collapsed": false,
    "scrolled": true
   },
   "outputs": [],
   "source": [
    "df = pd.read_csv('data/C2A2_data/BinnedCsvs_d400/21f22d18c15db96f2a6ce96fdf640ced045b79a0fcb2ceacf61668e3.csv')"
   ]
  },
  {
   "cell_type": "code",
   "execution_count": 11,
   "metadata": {
    "collapsed": false
   },
   "outputs": [
    {
     "name": "stdout",
     "output_type": "stream",
     "text": [
      "<class 'pandas.core.frame.DataFrame'>\n",
      "RangeIndex: 335924 entries, 0 to 335923\n",
      "Data columns (total 4 columns):\n",
      "ID            335924 non-null object\n",
      "Date          335924 non-null object\n",
      "Element       335924 non-null object\n",
      "Data_Value    335924 non-null int64\n",
      "dtypes: int64(1), object(3)\n",
      "memory usage: 10.3+ MB\n"
     ]
    }
   ],
   "source": [
    "df.info()"
   ]
  },
  {
   "cell_type": "code",
   "execution_count": 2,
   "metadata": {
    "collapsed": false
   },
   "outputs": [
    {
     "name": "stdout",
     "output_type": "stream",
     "text": [
      "gzip: zipped.zip: No such file or directory\r\n",
      "gzip: . is a directory -- ignored\r\n"
     ]
    }
   ],
   "source": [
    "!gzip zipped.zip ."
   ]
  },
  {
   "cell_type": "code",
   "execution_count": 3,
   "metadata": {
    "collapsed": false
   },
   "outputs": [
    {
     "name": "stdout",
     "output_type": "stream",
     "text": [
      "./\n",
      "./Week4.ipynb\n",
      "./Assignment3.ipynb\n",
      "./.ipynb_checkpoints/\n",
      "./.ipynb_checkpoints/Untitled-checkpoint.ipynb\n",
      "./.ipynb_checkpoints/Assignment3-checkpoint.ipynb\n",
      "./.ipynb_checkpoints/Week2-checkpoint.ipynb\n",
      "./Matplotlib_3D.ipynb\n",
      "./Week2.ipynb\n",
      "./readonly/\n",
      "./readonly/Assignment4_example.pdf\n",
      "./readonly/Assignment3Fig2c.png\n",
      "./readonly/Assignment3Fig1.png\n",
      "./iris.csv\n",
      "./Untitled.ipynb\n",
      "./environment.yml\n",
      "./UnderstandingDistributionsThroughSampling.ipynb\n",
      "./Assignment4.ipynb\n",
      "./test.png\n",
      "./Assignment2.ipynb\n",
      "./Week3.ipynb\n",
      "./Dejunking.ipynb\n",
      "tar: .: file changed as we read it\n"
     ]
    }
   ],
   "source": [
    "!tar --exclude='./data' -zcvf archive.tgz ."
   ]
  },
  {
   "cell_type": "code",
   "execution_count": null,
   "metadata": {
    "collapsed": true
   },
   "outputs": [],
   "source": []
  }
 ],
 "metadata": {
  "kernelspec": {
   "display_name": "Python 3",
   "language": "python",
   "name": "python3"
  },
  "language_info": {
   "codemirror_mode": {
    "name": "ipython",
    "version": 3
   },
   "file_extension": ".py",
   "mimetype": "text/x-python",
   "name": "python",
   "nbconvert_exporter": "python",
   "pygments_lexer": "ipython3",
   "version": "3.5.2"
  }
 },
 "nbformat": 4,
 "nbformat_minor": 1
}
